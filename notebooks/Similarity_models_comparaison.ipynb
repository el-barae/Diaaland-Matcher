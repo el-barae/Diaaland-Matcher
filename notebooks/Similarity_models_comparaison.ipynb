{
 "cells": [
  {
   "cell_type": "code",
   "execution_count": 1,
   "id": "d79a017c",
   "metadata": {},
   "outputs": [],
   "source": [
    "import pandas as pd\n",
    "from sentence_transformers import SentenceTransformer\n",
    "from sklearn.metrics.pairwise import cosine_similarity\n",
    "import ast\n",
    "import time\n",
    "import seaborn as sns\n",
    "import matplotlib.pyplot as plt\n",
    "import json"
   ]
  },
  {
   "cell_type": "markdown",
   "id": "01e77b37",
   "metadata": {},
   "source": [
    "# Preparing data:"
   ]
  },
  {
   "cell_type": "code",
   "execution_count": null,
   "id": "41779af7",
   "metadata": {},
   "outputs": [],
   "source": []
  },
  {
   "cell_type": "markdown",
   "id": "3f2a51a8",
   "metadata": {},
   "source": [
    "# Model SBERT all-mpnet-base-v2"
   ]
  },
  {
   "cell_type": "code",
   "execution_count": 19,
   "id": "2883fa53",
   "metadata": {},
   "outputs": [],
   "source": [
    "def semantic_similarity_sbert_base_v2(job,resume):\n",
    "    \"\"\"calculate similarity with SBERT all-mpnet-base-v2\"\"\"\n",
    "    model = SentenceTransformer('all-mpnet-base-v2')\n",
    "    #Encoding:\n",
    "    score = 0\n",
    "    sen = job+resume\n",
    "    sen_embeddings = model.encode(sen)\n",
    "    for i in range(len(job)):\n",
    "        if job[i] in resume:\n",
    "            score += 1\n",
    "        else:\n",
    "            if max(cosine_similarity([sen_embeddings[i]],sen_embeddings[len(job):])[0]) >= 0.5:\n",
    "                score += max(cosine_similarity([sen_embeddings[i]],sen_embeddings[len(job):])[0])\n",
    "    score = score/len(job)  \n",
    "    return round(score,3)"
   ]
  },
  {
   "cell_type": "markdown",
   "id": "1c60dea2",
   "metadata": {},
   "source": [
    "# Model sentence-transformers/all-MiniLM-L6-v2"
   ]
  },
  {
   "cell_type": "code",
   "execution_count": 20,
   "id": "00df2aab",
   "metadata": {},
   "outputs": [],
   "source": [
    "def semantic_similarity_sbert_paraphrase_minilm_l6_v2(job,resume):\n",
    "    model = SentenceTransformer('sentence-transformers/all-MiniLM-L6-v2')\n",
    "    #Encoding:\n",
    "    score = 0\n",
    "    sen = job+resume\n",
    "    sen_embeddings = model.encode(sen)\n",
    "    for i in range(len(job)):\n",
    "        if job[i] in resume:\n",
    "            score += 1\n",
    "        else:\n",
    "            if max(cosine_similarity([sen_embeddings[i]],sen_embeddings[len(job):])[0]) >= 0.5:\n",
    "                score += max(cosine_similarity([sen_embeddings[i]],sen_embeddings[len(job):])[0])\n",
    "    score = score/len(job)  \n",
    "    return round(score,3)"
   ]
  },
  {
   "cell_type": "markdown",
   "id": "08cef2c1",
   "metadata": {},
   "source": [
    "# Model all_MiniLM_L12_v1"
   ]
  },
  {
   "cell_type": "code",
   "execution_count": 21,
   "id": "3178273c",
   "metadata": {},
   "outputs": [],
   "source": [
    "def semantic_similarity_all_MiniLM_L12_v1(job,resume):\n",
    "    \"\"\"calculate similarity with all-MiniLM-L12-v1\"\"\"\n",
    "    model = SentenceTransformer('all-MiniLM-L12-v1')\n",
    "    #Encoding:\n",
    "    score = 0\n",
    "    sen = job+resume\n",
    "    sen_embeddings = model.encode(sen)\n",
    "    for i in range(len(job)):\n",
    "        if job[i] in resume:\n",
    "            score += 1\n",
    "        else:\n",
    "            if max(cosine_similarity([sen_embeddings[i]],sen_embeddings[len(job):])[0]) >= 0.5:\n",
    "                score += max(cosine_similarity([sen_embeddings[i]],sen_embeddings[len(job):])[0])\n",
    "    score = score/len(job)  \n",
    "    return round(score,3)"
   ]
  },
  {
   "cell_type": "markdown",
   "id": "5d40e599",
   "metadata": {},
   "source": [
    "# Model bert_base_nli_mean_tokens"
   ]
  },
  {
   "cell_type": "code",
   "execution_count": 23,
   "id": "8f2fa0b3",
   "metadata": {},
   "outputs": [],
   "source": [
    "def semantic_similarity_bert_base_nli_mean_tokens(job,resume):\n",
    "    \"\"\"calculate similarity with bert_base_nli_mean_tokens\"\"\"\n",
    "    model = SentenceTransformer('bert-base-nli-mean-tokens')\n",
    "    #Encoding:\n",
    "    score = 0\n",
    "    sen = job+resume\n",
    "    sen_embeddings = model.encode(sen)\n",
    "    for i in range(len(job)):\n",
    "        if job[i] in resume:\n",
    "            score += 1\n",
    "        else:\n",
    "            if max(cosine_similarity([sen_embeddings[i]],sen_embeddings[len(job):])[0]) >= 0.5:\n",
    "                score += max(cosine_similarity([sen_embeddings[i]],sen_embeddings[len(job):])[0])\n",
    "    score = score/len(job)  \n",
    "    return round(score,3)"
   ]
  },
  {
   "cell_type": "markdown",
   "id": "fad18b7c",
   "metadata": {},
   "source": [
    "# Model all-roberta-large-v1"
   ]
  },
  {
   "cell_type": "code",
   "execution_count": 24,
   "id": "7fe7f9dc",
   "metadata": {},
   "outputs": [],
   "source": [
    "def semantic_similarity_all_roberta_large_v1(job,resume):\n",
    "    \"\"\"calculate similarity with all-roberta-large-v1\"\"\"\n",
    "    model = SentenceTransformer('all-roberta-large-v1')\n",
    "    #Encoding:\n",
    "    score = 0\n",
    "    sen = job+resume\n",
    "    sen_embeddings = model.encode(sen, convert_to_tensor=True)\n",
    "    for i in range(len(job)):\n",
    "        if job[i] in resume:\n",
    "            score += 1\n",
    "        else:\n",
    "            if max(cosine_similarity([sen_embeddings[i]],sen_embeddings[len(job):])[0]) >= 0.5:\n",
    "                score += max(cosine_similarity([sen_embeddings[i]],sen_embeddings[len(job):])[0])\n",
    "    score = score/len(job)  \n",
    "    return round(score,3)\n",
    "     "
   ]
  },
  {
   "cell_type": "code",
   "execution_count": null,
   "id": "8b9a6185",
   "metadata": {},
   "outputs": [],
   "source": []
  }
 ],
 "metadata": {
  "kernelspec": {
   "display_name": "Python 3 (ipykernel)",
   "language": "python",
   "name": "python3"
  },
  "language_info": {
   "codemirror_mode": {
    "name": "ipython",
    "version": 3
   },
   "file_extension": ".py",
   "mimetype": "text/x-python",
   "name": "python",
   "nbconvert_exporter": "python",
   "pygments_lexer": "ipython3",
   "version": "3.11.3"
  }
 },
 "nbformat": 4,
 "nbformat_minor": 5
}
