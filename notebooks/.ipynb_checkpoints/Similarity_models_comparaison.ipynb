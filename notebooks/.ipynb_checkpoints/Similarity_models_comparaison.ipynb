{
 "cells": [
  {
   "cell_type": "code",
   "execution_count": 1,
   "id": "60c4b911",
   "metadata": {},
   "outputs": [],
   "source": [
    "from sentence_transformers import SentenceTransformer\n",
    "from sklearn.metrics.pairwise import cosine_similarity"
   ]
  },
  {
   "cell_type": "markdown",
   "id": "c11ed679",
   "metadata": {},
   "source": [
    "# Preparing data:"
   ]
  },
  {
   "cell_type": "code",
   "execution_count": null,
   "id": "ca2f7650",
   "metadata": {},
   "outputs": [],
   "source": []
  },
  {
   "cell_type": "markdown",
   "id": "113794e1",
   "metadata": {},
   "source": [
    "# Model SBERT all-mpnet-base-v2"
   ]
  },
  {
   "cell_type": "code",
   "execution_count": 2,
   "id": "ceb613ce",
   "metadata": {},
   "outputs": [],
   "source": [
    "def semantic_similarity_sbert_base_v2(job,resume):\n",
    "    \"\"\"calculate similarity with SBERT all-mpnet-base-v2\"\"\"\n",
    "    model = SentenceTransformer('all-mpnet-base-v2')\n",
    "    #Encoding:\n",
    "    score = 0\n",
    "    sen = job+resume\n",
    "    sen_embeddings = model.encode(sen)\n",
    "    for i in range(len(job)):\n",
    "        if job[i] in resume:\n",
    "            score += 1\n",
    "        else:\n",
    "            if max(cosine_similarity([sen_embeddings[i]],sen_embeddings[len(job):])[0]) >= 0.4:\n",
    "                score += max(cosine_similarity([sen_embeddings[i]],sen_embeddings[len(job):])[0])\n",
    "    score = score/len(job)  \n",
    "    return round(score,3)"
   ]
  },
  {
   "cell_type": "markdown",
   "id": "bb516281",
   "metadata": {},
   "source": [
    "# Model sentence-transformers/all-MiniLM-L6-v2"
   ]
  },
  {
   "cell_type": "code",
   "execution_count": null,
   "id": "fa28a779",
   "metadata": {},
   "outputs": [],
   "source": [
    "def semantic_similarity_sbert_paraphrase_minilm_l6_v2(job,resume):\n",
    "    \"\"\"calculate similarity with sentence-transformers/all-MiniLM-L6-v2\"\"\"\n",
    "    model = SentenceTransformer('sentence-transformers/all-MiniLM-L6-v2')\n",
    "    #Encoding:\n",
    "    score = 0\n",
    "    sen = job+resume\n",
    "    sen_embeddings = model.encode(sen)\n",
    "    for i in range(len(job)):\n",
    "        if job[i] in resume:\n",
    "            score += 1\n",
    "        else:\n",
    "            if max(cosine_similarity([sen_embeddings[i]],sen_embeddings[len(job):])[0]) >= 0.4:\n",
    "                score += max(cosine_similarity([sen_embeddings[i]],sen_embeddings[len(job):])[0])\n",
    "    score = score/len(job)  \n",
    "    return round(score,3)\n"
   ]
  },
  {
   "cell_type": "markdown",
   "id": "98fae140",
   "metadata": {},
   "source": [
    "# Model all_MiniLM_L12_v1"
   ]
  },
  {
   "cell_type": "code",
   "execution_count": 6,
   "id": "7649978d",
   "metadata": {},
   "outputs": [],
   "source": [
    "def semantic_similarity_all_MiniLM_L12_v1(job,resume):\n",
    "    \"\"\"calculate similarity with all-MiniLM-L12-v1\"\"\"\n",
    "    model = SentenceTransformer('all-MiniLM-L12-v1')\n",
    "    #Encoding:\n",
    "    score = 0\n",
    "    sen = job+resume\n",
    "    sen_embeddings = model.encode(sen)\n",
    "    for i in range(len(job)):\n",
    "        if job[i] in resume:\n",
    "            score += 1\n",
    "        else:\n",
    "            if max(cosine_similarity([sen_embeddings[i]],sen_embeddings[len(job):])[0]) >= 0.4:\n",
    "                score += max(cosine_similarity([sen_embeddings[i]],sen_embeddings[len(job):])[0])\n",
    "    score = score/len(job)  \n",
    "    return round(score,3)"
   ]
  },
  {
   "cell_type": "markdown",
   "id": "1d55026e",
   "metadata": {},
   "source": [
    "# Model bert_base_nli_mean_tokens"
   ]
  },
  {
   "cell_type": "code",
   "execution_count": 7,
   "id": "fe3801b7",
   "metadata": {},
   "outputs": [],
   "source": [
    "def semantic_similarity_bert_base_nli_mean_tokens(job,resume):\n",
    "    \"\"\"calculate similarity with bert_base_nli_mean_tokens\"\"\"\n",
    "    model = SentenceTransformer('bert-base-nli-mean-tokens')\n",
    "    #Encoding:\n",
    "    score = 0\n",
    "    sen = job+resume\n",
    "    sen_embeddings = model.encode(sen)\n",
    "    for i in range(len(job)):\n",
    "        if job[i] in resume:\n",
    "            score += 1\n",
    "        else:\n",
    "            if max(cosine_similarity([sen_embeddings[i]],sen_embeddings[len(job):])[0]) >= 0.4:\n",
    "                score += max(cosine_similarity([sen_embeddings[i]],sen_embeddings[len(job):])[0])\n",
    "    score = score/len(job)  \n",
    "    return round(score,3)"
   ]
  },
  {
   "cell_type": "markdown",
   "id": "f59c0134",
   "metadata": {},
   "source": [
    "# Model all-roberta-large-v1"
   ]
  },
  {
   "cell_type": "code",
   "execution_count": 8,
   "id": "44996103",
   "metadata": {},
   "outputs": [],
   "source": [
    "def semantic_similarity_all_roberta_large_v1(job,resume):\n",
    "    \"\"\"calculate similarity with all-roberta-large-v1\"\"\"\n",
    "    model = SentenceTransformer('all-roberta-large-v1')\n",
    "    #Encoding:\n",
    "    score = 0\n",
    "    sen = job+resume\n",
    "    sen_embeddings = model.encode(sen)\n",
    "    for i in range(len(job)):\n",
    "        if job[i] in resume:\n",
    "            score += 1\n",
    "        else:\n",
    "            if max(cosine_similarity([sen_embeddings[i]],sen_embeddings[len(job):])[0]) >= 0.4:\n",
    "                score += max(cosine_similarity([sen_embeddings[i]],sen_embeddings[len(job):])[0])\n",
    "    score = score/len(job)  \n",
    "    return round(score,3)"
   ]
  },
  {
   "cell_type": "markdown",
   "id": "f8e1effd",
   "metadata": {},
   "source": [
    "# Model GPT"
   ]
  },
  {
   "cell_type": "markdown",
   "id": "96e35339",
   "metadata": {},
   "source": []
  }
 ],
 "metadata": {
  "kernelspec": {
   "display_name": "Python 3 (ipykernel)",
   "language": "python",
   "name": "python3"
  },
  "language_info": {
   "codemirror_mode": {
    "name": "ipython",
    "version": 3
   },
   "file_extension": ".py",
   "mimetype": "text/x-python",
   "name": "python",
   "nbconvert_exporter": "python",
   "pygments_lexer": "ipython3",
   "version": "3.11.3"
  }
 },
 "nbformat": 4,
 "nbformat_minor": 5
}
